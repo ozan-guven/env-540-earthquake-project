{
 "cells": [
  {
   "cell_type": "code",
   "execution_count": null,
   "metadata": {},
   "outputs": [],
   "source": [
    "%load_ext autoreload\n",
    "%autoreload 2"
   ]
  },
  {
   "cell_type": "code",
   "execution_count": null,
   "metadata": {},
   "outputs": [],
   "source": [
    "import os\n",
    "import sys\n",
    "sys.path.append('../')\n",
    "\n",
    "import numpy as np\n",
    "\n",
    "import matplotlib.pyplot as plt\n",
    "from PIL import Image\n",
    "\n",
    "from src.data.dataset import SatelliteImageDataset, get_split_image_files\n",
    "\n",
    "DATA_PATH = '../data/'\n",
    "MAXAR_PRE_PATH = DATA_PATH + 'maxar/pre/'\n",
    "\n",
    "os.environ['KMP_DUPLICATE_LIB_OK'] = 'TRUE'\n",
    "Image.MAX_IMAGE_PIXELS = 303038464"
   ]
  },
  {
   "cell_type": "code",
   "execution_count": null,
   "metadata": {},
   "outputs": [],
   "source": [
    "train_image_files, _, _ = get_split_image_files(MAXAR_PRE_PATH)\n",
    "dataset = SatelliteImageDataset(image_files=train_image_files)"
   ]
  },
  {
   "cell_type": "code",
   "execution_count": null,
   "metadata": {},
   "outputs": [],
   "source": [
    "it = iter(dataset)"
   ]
  },
  {
   "cell_type": "code",
   "execution_count": null,
   "metadata": {},
   "outputs": [],
   "source": [
    "patch = next(it)\n",
    "mean_patch = np.mean(np.array(patch), axis=0)\n",
    "non_black_pixels = mean_patch[mean_patch > 0]\n",
    "variance = np.var(non_black_pixels)\n",
    "print(variance, flush=True)\n",
    "variance = np.var(non_black_pixels * 255)\n",
    "print(variance, flush=True)\n",
    "plt.imshow(mean_patch, cmap='gray')\n",
    "plt.show()"
   ]
  },
  {
   "cell_type": "code",
   "execution_count": null,
   "metadata": {},
   "outputs": [],
   "source": []
  }
 ],
 "metadata": {
  "kernelspec": {
   "display_name": "biomedicine",
   "language": "python",
   "name": "python3"
  },
  "language_info": {
   "codemirror_mode": {
    "name": "ipython",
    "version": 3
   },
   "file_extension": ".py",
   "mimetype": "text/x-python",
   "name": "python",
   "nbconvert_exporter": "python",
   "pygments_lexer": "ipython3",
   "version": "3.11.5"
  }
 },
 "nbformat": 4,
 "nbformat_minor": 2
}
