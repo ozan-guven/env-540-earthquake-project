{
 "cells": [
  {
   "cell_type": "code",
   "execution_count": 15,
   "metadata": {},
   "outputs": [
    {
     "name": "stdout",
     "output_type": "stream",
     "text": [
      "The autoreload extension is already loaded. To reload it, use:\n",
      "  %reload_ext autoreload\n"
     ]
    }
   ],
   "source": [
    "%load_ext autoreload\n",
    "%autoreload 2"
   ]
  },
  {
   "cell_type": "code",
   "execution_count": 16,
   "metadata": {},
   "outputs": [],
   "source": [
    "import sys\n",
    "sys.path.append('../')\n",
    "\n",
    "import os\n",
    "os.environ['KMP_DUPLICATE_LIB_OK'] = 'TRUE'\n",
    "\n",
    "import pandas as pd\n",
    "\n",
    "DATA_PATH = '../data/'\n",
    "RESULTS_PATH = f'{DATA_PATH}results/results.csv'"
   ]
  },
  {
   "cell_type": "code",
   "execution_count": 17,
   "metadata": {},
   "outputs": [
    {
     "data": {
      "text/html": [
       "<div>\n",
       "<style scoped>\n",
       "    .dataframe tbody tr th:only-of-type {\n",
       "        vertical-align: middle;\n",
       "    }\n",
       "\n",
       "    .dataframe tbody tr th {\n",
       "        vertical-align: top;\n",
       "    }\n",
       "\n",
       "    .dataframe thead th {\n",
       "        text-align: right;\n",
       "    }\n",
       "</style>\n",
       "<table border=\"1\" class=\"dataframe\">\n",
       "  <thead>\n",
       "    <tr style=\"text-align: right;\">\n",
       "      <th></th>\n",
       "      <th>name</th>\n",
       "      <th>test_loss</th>\n",
       "      <th>test_accuracy</th>\n",
       "      <th>test_accuracy_std</th>\n",
       "      <th>test_precision</th>\n",
       "      <th>test_precision_std</th>\n",
       "      <th>test_recall</th>\n",
       "      <th>test_recall_std</th>\n",
       "      <th>test_f1</th>\n",
       "      <th>test_f1_std</th>\n",
       "      <th>test_iou</th>\n",
       "      <th>test_iou_std</th>\n",
       "      <th>test_dice</th>\n",
       "      <th>test_dice_std</th>\n",
       "    </tr>\n",
       "  </thead>\n",
       "  <tbody>\n",
       "    <tr>\n",
       "      <th>0</th>\n",
       "      <td>UNetUNetUNetUNetUNetUNetUNetUNetUNetUNetUNetUN...</td>\n",
       "      <td>52.47</td>\n",
       "      <td>94.45</td>\n",
       "      <td>1.67</td>\n",
       "      <td>50.30</td>\n",
       "      <td>16.59</td>\n",
       "      <td>49.75</td>\n",
       "      <td>15.50</td>\n",
       "      <td>49.03</td>\n",
       "      <td>14.31</td>\n",
       "      <td>33.56</td>\n",
       "      <td>11.54</td>\n",
       "      <td>94.45</td>\n",
       "      <td>1.67</td>\n",
       "    </tr>\n",
       "    <tr>\n",
       "      <th>1</th>\n",
       "      <td>SiameseUNetConcSiameseUNetConcSiameseUNetConcS...</td>\n",
       "      <td>62.98</td>\n",
       "      <td>94.58</td>\n",
       "      <td>2.09</td>\n",
       "      <td>53.00</td>\n",
       "      <td>11.23</td>\n",
       "      <td>55.35</td>\n",
       "      <td>9.48</td>\n",
       "      <td>53.50</td>\n",
       "      <td>8.75</td>\n",
       "      <td>37.02</td>\n",
       "      <td>8.53</td>\n",
       "      <td>94.58</td>\n",
       "      <td>2.09</td>\n",
       "    </tr>\n",
       "    <tr>\n",
       "      <th>2</th>\n",
       "      <td>SiameseUNetDiffSiameseUNetDiffSiameseUNetDiffS...</td>\n",
       "      <td>46.73</td>\n",
       "      <td>94.99</td>\n",
       "      <td>2.01</td>\n",
       "      <td>58.18</td>\n",
       "      <td>10.43</td>\n",
       "      <td>50.69</td>\n",
       "      <td>11.57</td>\n",
       "      <td>53.34</td>\n",
       "      <td>9.36</td>\n",
       "      <td>36.93</td>\n",
       "      <td>8.68</td>\n",
       "      <td>94.99</td>\n",
       "      <td>2.01</td>\n",
       "    </tr>\n",
       "  </tbody>\n",
       "</table>\n",
       "</div>"
      ],
      "text/plain": [
       "                                                name  test_loss  \\\n",
       "0  UNetUNetUNetUNetUNetUNetUNetUNetUNetUNetUNetUN...      52.47   \n",
       "1  SiameseUNetConcSiameseUNetConcSiameseUNetConcS...      62.98   \n",
       "2  SiameseUNetDiffSiameseUNetDiffSiameseUNetDiffS...      46.73   \n",
       "\n",
       "   test_accuracy  test_accuracy_std  test_precision  test_precision_std  \\\n",
       "0          94.45               1.67           50.30               16.59   \n",
       "1          94.58               2.09           53.00               11.23   \n",
       "2          94.99               2.01           58.18               10.43   \n",
       "\n",
       "   test_recall  test_recall_std  test_f1  test_f1_std  test_iou  test_iou_std  \\\n",
       "0        49.75            15.50    49.03        14.31     33.56         11.54   \n",
       "1        55.35             9.48    53.50         8.75     37.02          8.53   \n",
       "2        50.69            11.57    53.34         9.36     36.93          8.68   \n",
       "\n",
       "   test_dice  test_dice_std  \n",
       "0      94.45           1.67  \n",
       "1      94.58           2.09  \n",
       "2      94.99           2.01  "
      ]
     },
     "execution_count": 17,
     "metadata": {},
     "output_type": "execute_result"
    }
   ],
   "source": [
    "results = pd.read_csv(RESULTS_PATH)\n",
    "results = results.loc[:, results.columns.str.contains('test') | results.columns.str.contains('name')]\n",
    "results = (results * 100).round(2)\n",
    "results.head()"
   ]
  },
  {
   "cell_type": "code",
   "execution_count": null,
   "metadata": {},
   "outputs": [],
   "source": []
  }
 ],
 "metadata": {
  "kernelspec": {
   "display_name": "few",
   "language": "python",
   "name": "python3"
  },
  "language_info": {
   "codemirror_mode": {
    "name": "ipython",
    "version": 3
   },
   "file_extension": ".py",
   "mimetype": "text/x-python",
   "name": "python",
   "nbconvert_exporter": "python",
   "pygments_lexer": "ipython3",
   "version": "3.10.11"
  }
 },
 "nbformat": 4,
 "nbformat_minor": 2
}
