{
 "cells": [
  {
   "cell_type": "code",
   "execution_count": 4,
   "metadata": {},
   "outputs": [
    {
     "name": "stdout",
     "output_type": "stream",
     "text": [
      "The autoreload extension is already loaded. To reload it, use:\n",
      "  %reload_ext autoreload\n"
     ]
    }
   ],
   "source": [
    "%load_ext autoreload\n",
    "%autoreload 2"
   ]
  },
  {
   "cell_type": "code",
   "execution_count": 36,
   "metadata": {},
   "outputs": [],
   "source": [
    "import os\n",
    "import sys\n",
    "sys.path.append('../')\n",
    "\n",
    "\n",
    "\n",
    "from typing import List\n",
    "from tqdm import tqdm\n",
    "\n",
    "from urllib.request import urlretrieve\n",
    "\n",
    "DATA_PATH = '../data/'\n",
    "LINKS_PATH = DATA_PATH + 'links.txt'\n",
    "MAXAR_PATH = DATA_PATH + 'maxar/'\n",
    "\n",
    "EARTHQUAKE_DATE = '2023-02-06'"
   ]
  },
  {
   "cell_type": "code",
   "execution_count": 40,
   "metadata": {},
   "outputs": [
    {
     "name": "stderr",
     "output_type": "stream",
     "text": [
      "  4%|▍         | 61/1614 [14:57<6:20:46, 14.71s/it] \n"
     ]
    },
    {
     "ename": "KeyboardInterrupt",
     "evalue": "",
     "output_type": "error",
     "traceback": [
      "\u001b[1;31m---------------------------------------------------------------------------\u001b[0m",
      "\u001b[1;31mKeyboardInterrupt\u001b[0m                         Traceback (most recent call last)",
      "\u001b[1;32mc:\\Users\\Arnaud Poletto\\Desktop\\ipeo\\Project\\env-540-earthquake-project\\notebooks\\data.ipynb Cell 3\u001b[0m line \u001b[0;36m5\n\u001b[0;32m     <a href='vscode-notebook-cell:/c%3A/Users/Arnaud%20Poletto/Desktop/ipeo/Project/env-540-earthquake-project/notebooks/data.ipynb#W3sZmlsZQ%3D%3D?line=46'>47</a>\u001b[0m         urlretrieve(url, file_path \u001b[39m+\u001b[39m file_name)\n\u001b[0;32m     <a href='vscode-notebook-cell:/c%3A/Users/Arnaud%20Poletto/Desktop/ipeo/Project/env-540-earthquake-project/notebooks/data.ipynb#W3sZmlsZQ%3D%3D?line=48'>49</a>\u001b[0m urls \u001b[39m=\u001b[39m get_urls(LINKS_PATH)\n\u001b[1;32m---> <a href='vscode-notebook-cell:/c%3A/Users/Arnaud%20Poletto/Desktop/ipeo/Project/env-540-earthquake-project/notebooks/data.ipynb#W3sZmlsZQ%3D%3D?line=49'>50</a>\u001b[0m download_files(urls, MAXAR_PATH)\n",
      "\u001b[1;32mc:\\Users\\Arnaud Poletto\\Desktop\\ipeo\\Project\\env-540-earthquake-project\\notebooks\\data.ipynb Cell 3\u001b[0m line \u001b[0;36m4\n\u001b[0;32m     <a href='vscode-notebook-cell:/c%3A/Users/Arnaud%20Poletto/Desktop/ipeo/Project/env-540-earthquake-project/notebooks/data.ipynb#W3sZmlsZQ%3D%3D?line=43'>44</a>\u001b[0m     \u001b[39mcontinue\u001b[39;00m\n\u001b[0;32m     <a href='vscode-notebook-cell:/c%3A/Users/Arnaud%20Poletto/Desktop/ipeo/Project/env-540-earthquake-project/notebooks/data.ipynb#W3sZmlsZQ%3D%3D?line=45'>46</a>\u001b[0m \u001b[39m# Download the file into the file_path\u001b[39;00m\n\u001b[1;32m---> <a href='vscode-notebook-cell:/c%3A/Users/Arnaud%20Poletto/Desktop/ipeo/Project/env-540-earthquake-project/notebooks/data.ipynb#W3sZmlsZQ%3D%3D?line=46'>47</a>\u001b[0m urlretrieve(url, file_path \u001b[39m+\u001b[39m file_name)\n",
      "File \u001b[1;32mc:\\Users\\Arnaud Poletto\\anaconda3\\envs\\biomedicine\\Lib\\urllib\\request.py:270\u001b[0m, in \u001b[0;36murlretrieve\u001b[1;34m(url, filename, reporthook, data)\u001b[0m\n\u001b[0;32m    267\u001b[0m     reporthook(blocknum, bs, size)\n\u001b[0;32m    269\u001b[0m \u001b[39mwhile\u001b[39;00m \u001b[39mTrue\u001b[39;00m:\n\u001b[1;32m--> 270\u001b[0m     block \u001b[39m=\u001b[39m fp\u001b[39m.\u001b[39mread(bs)\n\u001b[0;32m    271\u001b[0m     \u001b[39mif\u001b[39;00m \u001b[39mnot\u001b[39;00m block:\n\u001b[0;32m    272\u001b[0m         \u001b[39mbreak\u001b[39;00m\n",
      "File \u001b[1;32mc:\\Users\\Arnaud Poletto\\anaconda3\\envs\\biomedicine\\Lib\\http\\client.py:466\u001b[0m, in \u001b[0;36mHTTPResponse.read\u001b[1;34m(self, amt)\u001b[0m\n\u001b[0;32m    463\u001b[0m \u001b[39mif\u001b[39;00m \u001b[39mself\u001b[39m\u001b[39m.\u001b[39mlength \u001b[39mis\u001b[39;00m \u001b[39mnot\u001b[39;00m \u001b[39mNone\u001b[39;00m \u001b[39mand\u001b[39;00m amt \u001b[39m>\u001b[39m \u001b[39mself\u001b[39m\u001b[39m.\u001b[39mlength:\n\u001b[0;32m    464\u001b[0m     \u001b[39m# clip the read to the \"end of response\"\u001b[39;00m\n\u001b[0;32m    465\u001b[0m     amt \u001b[39m=\u001b[39m \u001b[39mself\u001b[39m\u001b[39m.\u001b[39mlength\n\u001b[1;32m--> 466\u001b[0m s \u001b[39m=\u001b[39m \u001b[39mself\u001b[39m\u001b[39m.\u001b[39mfp\u001b[39m.\u001b[39mread(amt)\n\u001b[0;32m    467\u001b[0m \u001b[39mif\u001b[39;00m \u001b[39mnot\u001b[39;00m s \u001b[39mand\u001b[39;00m amt:\n\u001b[0;32m    468\u001b[0m     \u001b[39m# Ideally, we would raise IncompleteRead if the content-length\u001b[39;00m\n\u001b[0;32m    469\u001b[0m     \u001b[39m# wasn't satisfied, but it might break compatibility.\u001b[39;00m\n\u001b[0;32m    470\u001b[0m     \u001b[39mself\u001b[39m\u001b[39m.\u001b[39m_close_conn()\n",
      "File \u001b[1;32mc:\\Users\\Arnaud Poletto\\anaconda3\\envs\\biomedicine\\Lib\\socket.py:706\u001b[0m, in \u001b[0;36mSocketIO.readinto\u001b[1;34m(self, b)\u001b[0m\n\u001b[0;32m    704\u001b[0m \u001b[39mwhile\u001b[39;00m \u001b[39mTrue\u001b[39;00m:\n\u001b[0;32m    705\u001b[0m     \u001b[39mtry\u001b[39;00m:\n\u001b[1;32m--> 706\u001b[0m         \u001b[39mreturn\u001b[39;00m \u001b[39mself\u001b[39m\u001b[39m.\u001b[39m_sock\u001b[39m.\u001b[39mrecv_into(b)\n\u001b[0;32m    707\u001b[0m     \u001b[39mexcept\u001b[39;00m timeout:\n\u001b[0;32m    708\u001b[0m         \u001b[39mself\u001b[39m\u001b[39m.\u001b[39m_timeout_occurred \u001b[39m=\u001b[39m \u001b[39mTrue\u001b[39;00m\n",
      "File \u001b[1;32mc:\\Users\\Arnaud Poletto\\anaconda3\\envs\\biomedicine\\Lib\\ssl.py:1311\u001b[0m, in \u001b[0;36mSSLSocket.recv_into\u001b[1;34m(self, buffer, nbytes, flags)\u001b[0m\n\u001b[0;32m   1307\u001b[0m     \u001b[39mif\u001b[39;00m flags \u001b[39m!=\u001b[39m \u001b[39m0\u001b[39m:\n\u001b[0;32m   1308\u001b[0m         \u001b[39mraise\u001b[39;00m \u001b[39mValueError\u001b[39;00m(\n\u001b[0;32m   1309\u001b[0m           \u001b[39m\"\u001b[39m\u001b[39mnon-zero flags not allowed in calls to recv_into() on \u001b[39m\u001b[39m%s\u001b[39;00m\u001b[39m\"\u001b[39m \u001b[39m%\u001b[39m\n\u001b[0;32m   1310\u001b[0m           \u001b[39mself\u001b[39m\u001b[39m.\u001b[39m\u001b[39m__class__\u001b[39m)\n\u001b[1;32m-> 1311\u001b[0m     \u001b[39mreturn\u001b[39;00m \u001b[39mself\u001b[39m\u001b[39m.\u001b[39mread(nbytes, buffer)\n\u001b[0;32m   1312\u001b[0m \u001b[39melse\u001b[39;00m:\n\u001b[0;32m   1313\u001b[0m     \u001b[39mreturn\u001b[39;00m \u001b[39msuper\u001b[39m()\u001b[39m.\u001b[39mrecv_into(buffer, nbytes, flags)\n",
      "File \u001b[1;32mc:\\Users\\Arnaud Poletto\\anaconda3\\envs\\biomedicine\\Lib\\ssl.py:1167\u001b[0m, in \u001b[0;36mSSLSocket.read\u001b[1;34m(self, len, buffer)\u001b[0m\n\u001b[0;32m   1165\u001b[0m \u001b[39mtry\u001b[39;00m:\n\u001b[0;32m   1166\u001b[0m     \u001b[39mif\u001b[39;00m buffer \u001b[39mis\u001b[39;00m \u001b[39mnot\u001b[39;00m \u001b[39mNone\u001b[39;00m:\n\u001b[1;32m-> 1167\u001b[0m         \u001b[39mreturn\u001b[39;00m \u001b[39mself\u001b[39m\u001b[39m.\u001b[39m_sslobj\u001b[39m.\u001b[39mread(\u001b[39mlen\u001b[39m, buffer)\n\u001b[0;32m   1168\u001b[0m     \u001b[39melse\u001b[39;00m:\n\u001b[0;32m   1169\u001b[0m         \u001b[39mreturn\u001b[39;00m \u001b[39mself\u001b[39m\u001b[39m.\u001b[39m_sslobj\u001b[39m.\u001b[39mread(\u001b[39mlen\u001b[39m)\n",
      "\u001b[1;31mKeyboardInterrupt\u001b[0m: "
     ]
    }
   ],
   "source": [
    "def get_urls(links_path: str) -> List[str]:\n",
    "    \"\"\"Get urls from text file.\n",
    "\n",
    "    Args:\n",
    "        links_path (str): Path to text file containing urls.\n",
    "\n",
    "    Returns:\n",
    "        urls (list): List of urls.\n",
    "    \"\"\"\n",
    "    with open(links_path, 'r') as f:\n",
    "        urls = f.readlines()\n",
    "    return urls\n",
    "\n",
    "def download_files(urls: List[str], maxar_path: str) -> None:\n",
    "    \"\"\"Download files from urls.\n",
    "\n",
    "    Args:\n",
    "        urls (list): List of urls.\n",
    "        maxar_path (str): Path to save files.\n",
    "    \"\"\"\n",
    "    for url in tqdm(urls):\n",
    "        url_string = url.split('/')[-3:]\n",
    "        \n",
    "        # Get the date\n",
    "        date = url_string[1]\n",
    "        file_path = maxar_path\n",
    "        if date < EARTHQUAKE_DATE:\n",
    "            file_path += 'pre/'\n",
    "        elif date >= EARTHQUAKE_DATE:\n",
    "            file_path += 'post/'\n",
    "\n",
    "        # Get the file class\n",
    "        file_path += url_string[0] + '/'\n",
    "\n",
    "        file_name = '_'.join(url_string[-2:]).strip()\n",
    "\n",
    "        # If the folder doesn't exist, create it\n",
    "        if not os.path.exists(file_path):\n",
    "            os.makedirs(file_path)\n",
    "\n",
    "        # Check if the file already exists\n",
    "        if file_name in os.listdir(file_path):\n",
    "            continue\n",
    "\n",
    "        # Download the file into the file_path\n",
    "        urlretrieve(url, file_path + file_name)\n",
    "\n",
    "urls = get_urls(LINKS_PATH)\n",
    "download_files(urls, MAXAR_PATH)"
   ]
  },
  {
   "cell_type": "code",
   "execution_count": null,
   "metadata": {},
   "outputs": [],
   "source": []
  }
 ],
 "metadata": {
  "kernelspec": {
   "display_name": "biomedicine",
   "language": "python",
   "name": "python3"
  },
  "language_info": {
   "codemirror_mode": {
    "name": "ipython",
    "version": 3
   },
   "file_extension": ".py",
   "mimetype": "text/x-python",
   "name": "python",
   "nbconvert_exporter": "python",
   "pygments_lexer": "ipython3",
   "version": "3.11.5"
  }
 },
 "nbformat": 4,
 "nbformat_minor": 2
}
